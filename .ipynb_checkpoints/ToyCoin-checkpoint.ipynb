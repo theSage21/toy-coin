{
 "cells": [
  {
   "cell_type": "markdown",
   "metadata": {},
   "source": [
    "# ToyChain\n",
    "\n",
    "This is an attempt to understand what blockchains are. People around me have been pitching all kinds of things based off blockchains and I have been stuck depending on the knowledge of others to understand what is going on. That sucks.\n",
    "\n",
    "In my opinion, no knowledge is better than when consumed by the self.\n",
    "\n",
    "As all good people must do to truly understand things, we must begin at the beginning. At the [Satoshi Nakamot paper](https://bitcoin.org/bitcoin.pdf)\n",
    "\n",
    "## Transaction\n",
    "\n",
    "> We define an electronic coin as a chain of digital signatures. Each owner transfers the coin to the next by digitally signing a hash of the previous transaction and the public key of the next owner and adding these to the end of the coin. A payee can verify the signatures to verify the chain of ownership.\n",
    "\n",
    "Hence we need a private public key encryption system. As this is a toy example, we'll use RSA instead of making an informed decision as an expert on the subject would."
   ]
  },
  {
   "cell_type": "code",
   "execution_count": 1,
   "metadata": {},
   "outputs": [
    {
     "name": "stdout",
     "output_type": "stream",
     "text": [
      "Populating the interactive namespace from numpy and matplotlib\n"
     ]
    }
   ],
   "source": [
    "%pylab inline\n",
    "from collections import namedtuple"
   ]
  },
  {
   "cell_type": "code",
   "execution_count": 31,
   "metadata": {},
   "outputs": [
    {
     "name": "stdout",
     "output_type": "stream",
     "text": [
      "Requirement already satisfied: pycrypto in /home/arjoonn/dev/kaggle/env/lib/python3.6/site-packages\r\n"
     ]
    }
   ],
   "source": [
    "! pip install pycrypto"
   ]
  },
  {
   "cell_type": "code",
   "execution_count": 2,
   "metadata": {
    "collapsed": true
   },
   "outputs": [],
   "source": [
    "from Crypto.PublicKey import RSA\n",
    "from Crypto import Random\n",
    "from Crypto.Hash import MD5\n",
    "\n",
    "rng = Random.new().read\n",
    "\n",
    "# The 4 people in our coin ecosystem\n",
    "alice = RSA.generate(1024, rng)\n",
    "bob = RSA.generate(1024, rng)\n",
    "chatur = RSA.generate(1024, rng)\n",
    "rancho = RSA.generate(1024, rng)"
   ]
  },
  {
   "cell_type": "markdown",
   "metadata": {},
   "source": [
    "As mentioned in the paper, a transfer is done by signing the hash of a previous transaction and the public key of the next owner. We'll try and do that now."
   ]
  },
  {
   "cell_type": "code",
   "execution_count": 3,
   "metadata": {},
   "outputs": [
    {
     "name": "stdout",
     "output_type": "stream",
     "text": [
      "coin -> b'[\\xcb1B\\x0f\\xedx1\\xd1\\xce*E\\xbf8\\x03\\x0e'\n",
      "Coin currently resides with Alice\n",
      "Transfering coin from Alice to Bob\n",
      "The new transaction has been signed. Can Bob verify? True\n",
      "coin -> b'\\xd4\\xbe\\xd1\\x9e\\x91\\xf2\\xbf\\xf5L\\x8a\\x14s\\xfb \\x97\\x85'\n",
      "Coin currently resides with Bob\n",
      "Transfering coin from Bob to Chatur\n",
      "The new transaction has been signed. Can Chatur verify? True\n"
     ]
    }
   ],
   "source": [
    "previous_hash = MD5.new('seed_dummy_hash'.encode()).digest()\n",
    "\n",
    "print('coin ->', previous_hash)\n",
    "print('Coin currently resides with Alice')\n",
    "print('Transfering coin from Alice to Bob')\n",
    "\n",
    "payload = str((previous_hash, bob.publickey().e, bob.publickey().n)).encode()\n",
    "payload = MD5.new(payload).digest()\n",
    "signed = alice.sign(payload, rng)\n",
    "\n",
    "print('The new transaction has been signed. Can Bob verify?', alice.verify(payload, signed))\n",
    "\n",
    "previous_hash = MD5.new(str(signed).encode()).digest()\n",
    "\n",
    "print('coin ->', previous_hash)\n",
    "print('Coin currently resides with Bob')\n",
    "print('Transfering coin from Bob to Chatur')\n",
    "\n",
    "payload = str((previous_hash, chatur.publickey().e, chatur.publickey().n)).encode()\n",
    "payload = MD5.new(payload).digest()\n",
    "signed = bob.sign(payload, rng)\n",
    "\n",
    "print('The new transaction has been signed. Can Chatur verify?', bob.verify(payload, signed))"
   ]
  },
  {
   "cell_type": "markdown",
   "metadata": {},
   "source": [
    "Perhaps it will be easier if we turn this into a function and test it again?"
   ]
  },
  {
   "cell_type": "code",
   "execution_count": 4,
   "metadata": {},
   "outputs": [
    {
     "name": "stdout",
     "output_type": "stream",
     "text": [
      "b'\\xd4\\xbe\\xd1\\x9e\\x91\\xf2\\xbf\\xf5L\\x8a\\x14s\\xfb \\x97\\x85'\n",
      "b'\\x9f\\xd8\\x90G\\x92\\x0c\\xedt\\xb3\\xe2\\xfc]\\xd7f\\xfd\\xfb'\n",
      "b'\\x1e3\\xc16pE\\x98\\xd4\\x98\\x0e\\xdcdK\\x1e\\xc2\\xdc'\n",
      "So the hash changes as expected.\n"
     ]
    }
   ],
   "source": [
    "def transfer(previous_hash, old_owner, new_owner):\n",
    "    rng = Random.new().read\n",
    "    payload = str((previous_hash, new_owner.publickey().e, new_owner.publickey().n)).encode()\n",
    "    payload = MD5.new(payload).digest()\n",
    "    signed = old_owner.sign(payload, rng)\n",
    "    new_hash = MD5.new(str(signed).encode()).digest()\n",
    "    return new_hash, signed\n",
    "\n",
    "previous_hash = MD5.new('seed_dummy_hash'.encode()).digest()\n",
    "\n",
    "previous_hash, signed = transfer(previous_hash, alice, bob)\n",
    "print(previous_hash)\n",
    "previous_hash, signed = transfer(previous_hash, bob, chatur)\n",
    "print(previous_hash)\n",
    "previous_hash, signed = transfer(previous_hash, chatur, rancho)\n",
    "print(previous_hash)\n",
    "print('So the hash changes as expected.')"
   ]
  },
  {
   "cell_type": "markdown",
   "metadata": {},
   "source": [
    "## Timestamp server\n",
    "\n",
    "To solve the double spend problem, a time stamp server is proposed. Obviously since I don't have access to newpaper I'll just print it out for now."
   ]
  },
  {
   "cell_type": "code",
   "execution_count": 5,
   "metadata": {},
   "outputs": [
    {
     "name": "stdout",
     "output_type": "stream",
     "text": [
      "b'\\xd59uq\\xa7\\xf9\\xc0[\\xd5\\x8b\\xedw\\xf9\\xdb\\xe8\\xf0'\n"
     ]
    }
   ],
   "source": [
    "items = [1, 2, 3, 4]\n",
    "hash = MD5.new(str(items).encode()).digest()\n",
    "print(hash)"
   ]
  },
  {
   "cell_type": "code",
   "execution_count": 6,
   "metadata": {},
   "outputs": [
    {
     "name": "stdout",
     "output_type": "stream",
     "text": [
      "b'\\x95\\xc7Z\\x80%\\xe5A\\xd1\\x02\\xf7\\x9epx\\x85\\xc3I'\n"
     ]
    }
   ],
   "source": [
    "new_items = [hash, 5, 6, 7, 8]\n",
    "hash_ = MD5.new(str(new_items).encode()).digest()\n",
    "print(hash_)"
   ]
  },
  {
   "cell_type": "markdown",
   "metadata": {},
   "source": [
    "## Proof of work\n",
    "Proof of work is proposed as searching for a value which once hashed gives us *n* starting bits as zero."
   ]
  },
  {
   "cell_type": "code",
   "execution_count": 8,
   "metadata": {},
   "outputs": [
    {
     "name": "stdout",
     "output_type": "stream",
     "text": [
      "(b'\\x00Y\\xd1],A\\xed\\xe8u\\xf0\\xb3\\xc5(\\xfc\\x93K', 97)\n",
      "(b'\\x00\\x00\\x132&y\\xd2 \\xd8X\\x83\\xe7\\xc4\\xf2\\x17\\xd4', 44570)\n"
     ]
    }
   ],
   "source": [
    "def proof_of_work(prev_hash, transactions, n_zeros=1):\n",
    "    nonce = 0\n",
    "    while True:\n",
    "        payload = (prev_hash, transactions, nonce)\n",
    "        hash = MD5.new(str(payload).encode()).digest()\n",
    "        if all([i == 0 for i in hash[:n_zeros]]):\n",
    "            break\n",
    "        nonce += 1\n",
    "    return hash, nonce\n",
    "        \n",
    "transactions = [1, 2, 3, 4]\n",
    "prev_hash = MD5.new('blah'.encode()).digest()\n",
    "\n",
    "print(proof_of_work(prev_hash, transactions, 1))\n",
    "print(proof_of_work(prev_hash, transactions, 2))"
   ]
  },
  {
   "cell_type": "markdown",
   "metadata": {},
   "source": [
    "As mentioned in the paper, proof of work becomes exponentially more difficult as the n_zeros are increased. We can see that happening here when we test it for up to 4 zeros. As can be seen, searching for that nonce value is an embarrasingly parallel problem. So, we'll define some stuff to do that then."
   ]
  },
  {
   "cell_type": "code",
   "execution_count": 14,
   "metadata": {},
   "outputs": [
    {
     "name": "stderr",
     "output_type": "stream",
     "text": [
      "\n",
      "  0%|          | 0/50 [00:00<?, ?it/s]\u001b[A\n",
      "\n",
      "\n",
      "\n",
      "\n",
      "  2%|▏         | 1/50 [00:00<00:08,  5.73it/s]\u001b[A\n",
      "\n",
      "\n",
      "\n",
      "\n",
      "  4%|▍         | 2/50 [00:00<00:08,  5.88it/s]\u001b[A\n",
      "\n",
      "\n",
      "\n",
      "\n",
      "  6%|▌         | 3/50 [00:00<00:07,  5.88it/s]\u001b[A\n",
      "\n",
      "\n",
      "\n",
      "\n",
      "  8%|▊         | 4/50 [00:00<00:07,  5.97it/s]\u001b[A\n",
      "\n",
      "\n",
      "\n",
      "\n",
      " 10%|█         | 5/50 [00:00<00:07,  5.93it/s]\u001b[A\n",
      "\n",
      "\n",
      "\n",
      "\n",
      " 12%|█▏        | 6/50 [00:00<00:07,  6.06it/s]\u001b[A\n",
      "\n",
      "\n",
      "\n",
      "\n",
      " 14%|█▍        | 7/50 [00:01<00:09,  4.50it/s]\u001b[A\n",
      "\n",
      "\n",
      "\n",
      "\n",
      " 16%|█▌        | 8/50 [00:01<00:09,  4.30it/s]\u001b[A\n",
      "\n",
      "\n",
      "\n",
      "\n",
      " 18%|█▊        | 9/50 [00:01<00:08,  4.69it/s]\u001b[A\n",
      "\n",
      "\n",
      "\n",
      "\n",
      " 20%|██        | 10/50 [00:01<00:08,  4.91it/s]\u001b[A\n",
      "\n",
      "\n",
      "\n",
      "\n",
      " 22%|██▏       | 11/50 [00:02<00:07,  5.35it/s]\u001b[A\n",
      "\n",
      "\n",
      "\n",
      "\n",
      " 24%|██▍       | 12/50 [00:02<00:06,  5.66it/s]\u001b[A\n",
      "\n",
      "\n",
      "\n",
      "\n",
      " 26%|██▌       | 13/50 [00:02<00:06,  5.86it/s]\u001b[A\n",
      "\n",
      "\n",
      "\n",
      "\n",
      " 28%|██▊       | 14/50 [00:02<00:06,  5.88it/s]\u001b[A\n",
      "\n",
      "\n",
      "\n",
      "\n",
      " 30%|███       | 15/50 [00:02<00:05,  5.96it/s]\u001b[A\n",
      "\n",
      "\n",
      "\n",
      "\n",
      " 32%|███▏      | 16/50 [00:02<00:05,  6.03it/s]\u001b[A\n",
      "\n",
      "\n",
      "\n",
      "\n",
      " 34%|███▍      | 17/50 [00:03<00:05,  6.07it/s]\u001b[A\n",
      "\n",
      "\n",
      "\n",
      "\n",
      " 36%|███▌      | 18/50 [00:03<00:05,  5.98it/s]\u001b[A\n",
      "\n",
      "\n",
      "\n",
      "\n",
      " 38%|███▊      | 19/50 [00:03<00:05,  6.09it/s]\u001b[A\n",
      "\n",
      "\n",
      "\n",
      "\n",
      " 40%|████      | 20/50 [00:03<00:06,  4.88it/s]\u001b[A\n",
      "\n",
      "\n",
      "\n",
      "\n",
      " 42%|████▏     | 21/50 [00:03<00:05,  5.19it/s]\u001b[A\n",
      "\n",
      "\n",
      "\n",
      "\n",
      " 44%|████▍     | 22/50 [00:04<00:05,  5.46it/s]\u001b[A\n",
      "\n",
      "\n",
      "\n",
      "\n",
      " 46%|████▌     | 23/50 [00:04<00:04,  5.62it/s]\u001b[A\n",
      "\n",
      "\n",
      "\n",
      "\n",
      " 48%|████▊     | 24/50 [00:04<00:04,  5.53it/s]\u001b[A\n",
      "\n",
      "100%|██████████| 50/50 [00:08<00:00,  7.36it/s]\n",
      "100%|██████████| 50/50 [06:07<00:00,  5.75s/it]\n"
     ]
    }
   ],
   "source": [
    "import time\n",
    "from tqdm import tqdm, trange\n",
    "from multiprocessing import Pool\n",
    "\n",
    "def worker(args):\n",
    "    transactions, prev_hash, n_zeros, nonce = args\n",
    "    payload = (prev_hash, transactions, nonce)\n",
    "    hash = MD5.new(str(payload).encode()).digest()\n",
    "    valid = all([i==0 for i in hash[:n_zeros]])\n",
    "    return valid, hash, nonce\n",
    "\n",
    "def get_random_transcations_and_hash():\n",
    "    transactions = list(range(int(random.random()*10)))\n",
    "    prev_hash = MD5.new(str(random.random()).encode()).digest()\n",
    "    return transactions, prev_hash\n",
    "\n",
    "def time_pow(n_zeros, trials):\n",
    "    avgs, trial_count = [], []\n",
    "    nonce_start = 0\n",
    "    for _ in trange(trials):\n",
    "        transactions, prev_hash = get_random_transcations_and_hash()\n",
    "        with Pool() as pool:\n",
    "            start = time.time()\n",
    "            while True:\n",
    "                nonces = list(range(nonce_start, nonce_start + 100))\n",
    "                args = [(transactions, prev_hash, n_zeros, n) for n in nonces]        \n",
    "                results = pool.map(worker, args)\n",
    "                validations = [i[0] for i in results]\n",
    "                if any(validations):\n",
    "                    break\n",
    "                nonce_start += 100\n",
    "            end = time.time()\n",
    "            t = end - start\n",
    "            avgs.append(t)\n",
    "    return avgs\n",
    "    \n",
    "        \n",
    "        \n",
    "    \n",
    "\n",
    "times, trial_ids = [], []\n",
    "n_begining_zeros, trials = 2, 50\n",
    "for i in range(1, n_begining_zeros+1):\n",
    "    time_taken = time_pow(i, trials)\n",
    "    times.extend(time_taken); trial_ids.extend([i for _ in time_taken])"
   ]
  },
  {
   "cell_type": "markdown",
   "metadata": {},
   "source": [
    "I had to kill the process. It ran overnight at 3 leading zeros and was halfway through the 50 trials. The point is taken. With a 4 core laptop, proof-of-work is hard. Very hard. So if you're in the bitcoin mining business where broof-of-work is your bread and butter, you HAVE to get a GPU or you're not even in the game.\n",
    "\n",
    "Let's visualize what we already have."
   ]
  },
  {
   "cell_type": "code",
   "execution_count": null,
   "metadata": {},
   "outputs": [],
   "source": [
    "import pandas as pd\n",
    "import seaborn as sns\n",
    "\n",
    "df = pd.DataFrame({'time': times, 'n_zeros': trial_ids})\n",
    "sns.pointplot(x='n_zeros', y='time', data=df)\n",
    "plt.xlabel('N leading zeros in hash')\n",
    "plt.ylabel('Seconds taken to find suitable nonce')\n",
    "plt.title('Nonce generation witn n_leading zeros')"
   ]
  },
  {
   "cell_type": "markdown",
   "metadata": {},
   "source": [
    "One leading zero took almost no time to find, two was ~ 8 seconds, and 3 did not complete computation overnight. The proof is hard.\n",
    "\n",
    "## Conclusion\n",
    "\n",
    "This let's us know enough to identify the fibbers when we see them, at least on a very general level. Perhaps we'll work on the notebook more to find other things."
   ]
  }
 ],
 "metadata": {
  "kernelspec": {
   "display_name": "Python 3",
   "language": "python",
   "name": "python3"
  },
  "language_info": {
   "codemirror_mode": {
    "name": "ipython",
    "version": 3
   },
   "file_extension": ".py",
   "mimetype": "text/x-python",
   "name": "python",
   "nbconvert_exporter": "python",
   "pygments_lexer": "ipython3",
   "version": "3.6.0"
  }
 },
 "nbformat": 4,
 "nbformat_minor": 2
}
