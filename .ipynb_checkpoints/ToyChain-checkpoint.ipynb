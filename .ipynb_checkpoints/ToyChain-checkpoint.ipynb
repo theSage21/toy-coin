{
 "cells": [
  {
   "cell_type": "markdown",
   "metadata": {},
   "source": [
    "# ToyChain\n",
    "\n",
    "This is an attempt to understand what blockchains are. People around me have been pitching all kinds of things based off blockchains and I have been stuck depending on the knowledge of others to understand what is going on. That sucks.\n",
    "\n",
    "In my opinion, no knowledge is better than when consumed by the self.\n",
    "\n",
    "As all good people must do to truly understand things, we must begin at the beginning. At the [Satoshi Nakamot paper](https://bitcoin.org/bitcoin.pdf)\n",
    "\n",
    "## Transaction\n",
    "\n",
    "> We define an electronic coin as a chain of digital signatures. Each owner transfers the coin to the next by digitally signing a hash of the previous transaction and the public key of the next owner and adding these to the end of the coin. A payee can verify the signatures to verify the chain of ownership.\n",
    "\n",
    "Hence we need a private public key encryption system. As this is a toy example, we'll use RSA instead of making an informed decision as an expert on the subject would."
   ]
  },
  {
   "cell_type": "code",
   "execution_count": 1,
   "metadata": {},
   "outputs": [
    {
     "name": "stdout",
     "output_type": "stream",
     "text": [
      "Populating the interactive namespace from numpy and matplotlib\n"
     ]
    }
   ],
   "source": [
    "%pylab inline\n",
    "from math import gcd\n",
    "from collections import namedtuple"
   ]
  },
  {
   "cell_type": "code",
   "execution_count": 31,
   "metadata": {},
   "outputs": [
    {
     "name": "stdout",
     "output_type": "stream",
     "text": [
      "Requirement already satisfied: pycrypto in /home/arjoonn/dev/kaggle/env/lib/python3.6/site-packages\r\n"
     ]
    }
   ],
   "source": [
    "! pip install pycrypto"
   ]
  },
  {
   "cell_type": "code",
   "execution_count": 40,
   "metadata": {},
   "outputs": [],
   "source": [
    "from Crypto.PublicKey import RSA\n",
    "from Crypto import Random\n",
    "from Crypto.Hash import MD5\n",
    "\n",
    "rng = Random.new().read\n",
    "\n",
    "# The 4 people in our coin ecosystem\n",
    "alice = RSA.generate(1024, rng)\n",
    "bob = RSA.generate(1024, rng)\n",
    "chatur = RSA.generate(1024, rng)\n",
    "rancho = RSA.generate(1024, rng)"
   ]
  },
  {
   "cell_type": "markdown",
   "metadata": {},
   "source": [
    "As mentioned in the paper, a transfer is done by signing the hash of a previous transaction and the public key of the next owner. We'll try and do that now."
   ]
  },
  {
   "cell_type": "code",
   "execution_count": 63,
   "metadata": {},
   "outputs": [
    {
     "name": "stdout",
     "output_type": "stream",
     "text": [
      "coin -> b'[\\xcb1B\\x0f\\xedx1\\xd1\\xce*E\\xbf8\\x03\\x0e'\n",
      "Coin currently resides with Alice\n",
      "Transfering coin from Alice to Bob\n",
      "The new transaction has been signed. Can Bob verify? True\n",
      "coin -> b'\\x0b\\x7f\\xd1\\xe4>E\\xc7\\xcbBF\\xef}\\xf3Bcw'\n",
      "Coin currently resides with Bob\n",
      "Transfering coin from Bob to Chatur\n",
      "The new transaction has been signed. Can Chatur verify? True\n"
     ]
    }
   ],
   "source": [
    "previous_hash = MD5.new('seed_dummy_hash'.encode()).digest()\n",
    "\n",
    "print('coin ->', previous_hash)\n",
    "print('Coin currently resides with Alice')\n",
    "print('Transfering coin from Alice to Bob')\n",
    "\n",
    "payload = str((previous_hash, bob.publickey().e, bob.publickey().n)).encode()\n",
    "payload = MD5.new(payload).digest()\n",
    "signed = alice.sign(payload, rng)\n",
    "\n",
    "print('The new transaction has been signed. Can Bob verify?', alice.verify(payload, signed))\n",
    "\n",
    "previous_hash = MD5.new(str(signed).encode()).digest()\n",
    "\n",
    "print('coin ->', previous_hash)\n",
    "print('Coin currently resides with Bob')\n",
    "print('Transfering coin from Bob to Chatur')\n",
    "\n",
    "payload = str((previous_hash, chatur.publickey().e, chatur.publickey().n)).encode()\n",
    "payload = MD5.new(payload).digest()\n",
    "signed = bob.sign(payload, rng)\n",
    "\n",
    "print('The new transaction has been signed. Can Chatur verify?', bob.verify(payload, signed))"
   ]
  },
  {
   "cell_type": "markdown",
   "metadata": {},
   "source": [
    "Perhaps it will be easier if we turn this into a function and test it again?"
   ]
  },
  {
   "cell_type": "code",
   "execution_count": 65,
   "metadata": {},
   "outputs": [
    {
     "name": "stdout",
     "output_type": "stream",
     "text": [
      "b'\\x0b\\x7f\\xd1\\xe4>E\\xc7\\xcbBF\\xef}\\xf3Bcw'\n",
      "b'C\\xbe\\xd1\\x00\\xbd\\xe0{\\xc7S\\xab\\xb3A\\xb2:\\xfd\\x0b'\n",
      "b'\\xf2I&\\xa9\\x9d\\x8a\\xfa\\xba\\xd21o\\xf2\\xe6\\xa92}'\n",
      "So the hash changes as expected.\n"
     ]
    }
   ],
   "source": [
    "def transfer(previous_hash, old_owner, new_owner):\n",
    "    rng = Random.new().read\n",
    "    payload = str((previous_hash, new_owner.publickey().e, new_owner.publickey().n)).encode()\n",
    "    payload = MD5.new(payload).digest()\n",
    "    signed = old_owner.sign(payload, rng)\n",
    "    new_hash = MD5.new(str(signed).encode()).digest()\n",
    "    return new_hash, signed\n",
    "\n",
    "previous_hash = MD5.new('seed_dummy_hash'.encode()).digest()\n",
    "\n",
    "previous_hash, signed = transfer(previous_hash, alice, bob)\n",
    "print(previous_hash)\n",
    "previous_hash, signed = transfer(previous_hash, bob, chatur)\n",
    "print(previous_hash)\n",
    "previous_hash, signed = transfer(previous_hash, chatur, rancho)\n",
    "print(previous_hash)\n",
    "print('So the hash changes as expected.')"
   ]
  },
  {
   "cell_type": "markdown",
   "metadata": {},
   "source": [
    "## Timestamp server\n",
    "\n",
    "To solve the double spend problem, a time stamp server is proposed. Obviously since I don't have access to newpaper I'll just print it out for now."
   ]
  },
  {
   "cell_type": "code",
   "execution_count": 66,
   "metadata": {},
   "outputs": [
    {
     "name": "stdout",
     "output_type": "stream",
     "text": [
      "b'\\xd59uq\\xa7\\xf9\\xc0[\\xd5\\x8b\\xedw\\xf9\\xdb\\xe8\\xf0'\n"
     ]
    }
   ],
   "source": [
    "items = [1, 2, 3, 4]\n",
    "hash = MD5.new(str(items).encode()).digest()\n",
    "print(hash)"
   ]
  },
  {
   "cell_type": "code",
   "execution_count": 67,
   "metadata": {},
   "outputs": [
    {
     "name": "stdout",
     "output_type": "stream",
     "text": [
      "b'\\x95\\xc7Z\\x80%\\xe5A\\xd1\\x02\\xf7\\x9epx\\x85\\xc3I'\n"
     ]
    }
   ],
   "source": [
    "new_items = [hash, 5, 6, 7, 8]\n",
    "hash_ = MD5.new(str(new_items).encode()).digest()\n",
    "print(hash_)"
   ]
  },
  {
   "cell_type": "markdown",
   "metadata": {},
   "source": [
    "## Proof of work\n",
    "Proof of work is proposed as searching for a value which once hashed gives us *n* starting bits as zero."
   ]
  },
  {
   "cell_type": "code",
   "execution_count": 98,
   "metadata": {},
   "outputs": [
    {
     "data": {
      "text/plain": [
       "(b'\\x00Y\\xd1],A\\xed\\xe8u\\xf0\\xb3\\xc5(\\xfc\\x93K', 97)"
      ]
     },
     "execution_count": 98,
     "metadata": {},
     "output_type": "execute_result"
    }
   ],
   "source": [
    "def proof_of_work(prev_hash, transactions, n_zeros=1):\n",
    "    nonce = 0\n",
    "    while True:\n",
    "        payload = (prev_hash, transactions, nonce)\n",
    "        hash = MD5.new(str(payload).encode()).digest()\n",
    "        if all([i == 0 for i in hash[:n_zeros]]):\n",
    "            break\n",
    "        nonce += 1\n",
    "    return hash, nonce\n",
    "        \n",
    "transactions = [1, 2, 3, 4]\n",
    "prev_hash = MD5.new('blah'.encode()).digest()\n",
    "\n",
    "proof_of_work(prev_hash, transactions)"
   ]
  },
  {
   "cell_type": "markdown",
   "metadata": {},
   "source": [
    "As mentioned in the paper, proof of work becomes exponentially more difficult as the n_zeros are increased. We can see that happening here when we test it for up to 4 zeros. As can be seen, searching for that nonce value is an embarrasingly parallel problem. So, we'll define some stuff to do that then."
   ]
  },
  {
   "cell_type": "code",
   "execution_count": null,
   "metadata": {},
   "outputs": [
    {
     "name": "stderr",
     "output_type": "stream",
     "text": [
      "\n",
      "  0%|          | 0/50 [00:00<?, ?it/s]\u001b[A\n",
      "\n",
      "\n",
      "\n",
      "\n",
      "  2%|▏         | 1/50 [00:00<00:08,  5.89it/s]\u001b[A\n",
      "\n",
      "\n",
      "\n",
      "\n",
      "  4%|▍         | 2/50 [00:00<00:08,  5.96it/s]\u001b[A\n",
      "\n",
      "\n",
      "\n",
      "\n",
      "  6%|▌         | 3/50 [00:00<00:07,  6.11it/s]\u001b[A\n",
      "\n",
      "\n",
      "\n",
      "\n",
      "  8%|▊         | 4/50 [00:00<00:07,  6.23it/s]\u001b[A\n",
      "\n",
      "\n",
      "\n",
      "\n",
      " 10%|█         | 5/50 [00:00<00:06,  6.50it/s]\u001b[A\n",
      "\n",
      "\n",
      "\n",
      "\n",
      " 12%|█▏        | 6/50 [00:00<00:06,  6.63it/s]\u001b[A\n",
      "\n",
      "\n",
      "\n",
      "\n",
      " 14%|█▍        | 7/50 [00:01<00:06,  6.45it/s]\u001b[A\n",
      "\n",
      "\n",
      "\n",
      "\n",
      " 16%|█▌        | 8/50 [00:01<00:06,  6.52it/s]\u001b[A\n",
      "\n",
      "\n",
      "\n",
      "\n",
      " 18%|█▊        | 9/50 [00:01<00:06,  6.46it/s]\u001b[A\n",
      "\n",
      "\n",
      "\n",
      "\n",
      " 20%|██        | 10/50 [00:01<00:07,  5.28it/s]\u001b[A\n",
      "\n",
      "\n",
      "\n",
      "\n",
      " 22%|██▏       | 11/50 [00:01<00:06,  5.60it/s]\u001b[A\n",
      "\n",
      "\n",
      "\n",
      "\n",
      " 24%|██▍       | 12/50 [00:01<00:06,  5.90it/s]\u001b[A\n",
      "\n",
      "\n",
      "\n",
      "\n",
      " 26%|██▌       | 13/50 [00:02<00:06,  6.16it/s]\u001b[A\n",
      "\n",
      "\n",
      "\n",
      "\n",
      " 28%|██▊       | 14/50 [00:02<00:05,  6.36it/s]\u001b[A\n",
      "\n",
      "\n",
      "\n",
      "\n",
      " 30%|███       | 15/50 [00:02<00:05,  6.48it/s]\u001b[A\n",
      "\n",
      "\n",
      "\n",
      "\n",
      " 32%|███▏      | 16/50 [00:02<00:05,  6.55it/s]\u001b[A\n",
      "\n",
      "\n",
      "\n",
      "\n",
      " 34%|███▍      | 17/50 [00:02<00:05,  6.58it/s]\u001b[A\n",
      "\n",
      "\n",
      "\n",
      "\n",
      " 36%|███▌      | 18/50 [00:02<00:04,  6.53it/s]\u001b[A\n",
      "\n",
      "\n",
      "\n",
      "\n",
      " 38%|███▊      | 19/50 [00:03<00:04,  6.70it/s]\u001b[A\n",
      "\n",
      "\n",
      "\n",
      "\n",
      " 40%|████      | 20/50 [00:03<00:04,  6.65it/s]\u001b[A\n",
      "\n",
      "\n",
      "\n",
      "\n",
      " 42%|████▏     | 21/50 [00:03<00:04,  6.69it/s]\u001b[A\n",
      "\n",
      "\n",
      "\n",
      "\n",
      " 44%|████▍     | 22/50 [00:03<00:04,  6.77it/s]\u001b[A\n",
      "\n",
      "\n",
      "\n",
      "\n",
      " 46%|████▌     | 23/50 [00:03<00:04,  6.75it/s]\u001b[A\n",
      "\n",
      "\n",
      "\n",
      "\n",
      " 48%|████▊     | 24/50 [00:03<00:03,  6.71it/s]\u001b[A\n",
      "\n",
      "\n",
      "\n",
      "\n",
      " 50%|█████     | 25/50 [00:03<00:03,  6.63it/s]\u001b[A\n",
      "\n",
      "\n",
      "\n",
      "\n",
      " 52%|█████▏    | 26/50 [00:04<00:03,  6.49it/s]\u001b[A\n",
      "\n",
      "\n",
      "\n",
      "\n",
      " 54%|█████▍    | 27/50 [00:04<00:03,  6.37it/s]\u001b[A\n",
      "\n",
      "\n",
      "\n",
      "\n",
      " 56%|█████▌    | 28/50 [00:04<00:03,  6.53it/s]\u001b[A\n",
      "\n",
      "\n",
      "\n",
      "\n",
      " 58%|█████▊    | 29/50 [00:04<00:03,  6.56it/s]\u001b[A\n",
      "\n",
      "\n",
      "\n",
      "\n",
      " 60%|██████    | 30/50 [00:04<00:03,  6.63it/s]\u001b[A\n",
      "\n",
      "\n",
      "\n",
      "\n",
      " 62%|██████▏   | 31/50 [00:04<00:02,  6.73it/s]\u001b[A\n",
      "\n",
      "\n",
      "\n",
      "\n",
      " 64%|██████▍   | 32/50 [00:04<00:02,  6.75it/s]\u001b[A\n",
      "\n",
      "\n",
      "\n",
      "\n",
      " 66%|██████▌   | 33/50 [00:05<00:02,  6.72it/s]\u001b[A\n",
      "\n",
      "\n",
      "\n",
      "\n",
      " 68%|██████▊   | 34/50 [00:05<00:02,  6.73it/s]\u001b[A\n",
      "\n",
      "\n",
      "\n",
      "\n",
      " 70%|███████   | 35/50 [00:05<00:02,  6.74it/s]\u001b[A\n",
      "\n",
      "\n",
      "\n",
      "\n",
      " 72%|███████▏  | 36/50 [00:05<00:02,  6.83it/s]\u001b[A\n",
      "\n",
      "\n",
      "\n",
      "\n",
      " 74%|███████▍  | 37/50 [00:05<00:01,  6.91it/s]\u001b[A\n",
      "\n",
      "\n",
      "\n",
      "\n",
      " 76%|███████▌  | 38/50 [00:05<00:01,  6.83it/s]\u001b[A\n",
      "\n",
      "\n",
      "\n",
      "\n",
      " 78%|███████▊  | 39/50 [00:05<00:01,  6.78it/s]\u001b[A\n",
      "\n",
      "\n",
      "\n",
      "\n",
      " 80%|████████  | 40/50 [00:06<00:01,  6.77it/s]\u001b[A\n",
      "\n",
      "\n",
      "\n",
      "\n",
      " 82%|████████▏ | 41/50 [00:06<00:01,  6.55it/s]\u001b[A\n",
      "\n",
      "\n",
      "\n",
      "\n",
      "100%|██████████| 50/50 [00:07<00:00,  7.14it/s]\n",
      " 26%|██▌       | 13/50 [01:10<02:13,  3.60s/it]"
     ]
    }
   ],
   "source": [
    "import time\n",
    "from tqdm import tqdm, trange\n",
    "from multiprocessing import Pool\n",
    "\n",
    "def worker(args):\n",
    "    transactions, prev_hash, n_zeros, nonce = args\n",
    "    payload = (prev_hash, transactions, nonce)\n",
    "    hash = MD5.new(str(payload).encode()).digest()\n",
    "    valid = all([i==0 for i in hash[:n_zeros]])\n",
    "    return valid, hash, nonce\n",
    "\n",
    "def get_random_transcations_and_hash():\n",
    "    transactions = list(range(int(random.random()*100)))\n",
    "    prev_hash = MD5.new(str(random.random()).encode()).digest()\n",
    "    return transactions, prev_hash\n",
    "\n",
    "def time_pow(n_zeros, trials):\n",
    "    avgs, trial_count = [], []\n",
    "    nonce_start = 0\n",
    "    for _ in trange(trials):\n",
    "        transactions, prev_hash = get_random_transcations_and_hash()\n",
    "        with Pool() as pool:\n",
    "            start = time.time()\n",
    "            while True:\n",
    "                nonces = list(range(nonce_start, nonce_start + 100))\n",
    "                args = [(transactions, prev_hash, n_zeros, n) for n in nonces]        \n",
    "                results = pool.map(worker, args)\n",
    "                validations = [i[0] for i in results]\n",
    "                if any(validations):\n",
    "                    break\n",
    "                nonce_start += 100\n",
    "            end = time.time()\n",
    "            t = end - start\n",
    "            avgs.append(t)\n",
    "    return avgs\n",
    "    \n",
    "        \n",
    "        \n",
    "    \n",
    "\n",
    "times, trial_ids = [], []\n",
    "n_begining_zeros, trials = 5, 50\n",
    "for i in range(1, n_begining_zeros+1):\n",
    "    time_taken = time_pow(i, trials)\n",
    "    times.extend(time_taken); trial_ids.extend([i for _ in time_taken])"
   ]
  },
  {
   "cell_type": "code",
   "execution_count": 115,
   "metadata": {},
   "outputs": [
    {
     "data": {
      "text/plain": [
       "<matplotlib.axes._subplots.AxesSubplot at 0xa4acd7ec>"
      ]
     },
     "execution_count": 115,
     "metadata": {},
     "output_type": "execute_result"
    },
    {
     "data": {
      "image/png": "[encoded data removed]",
      "text/plain": [
       "<matplotlib.figure.Figure at 0xa4acd2ec>"
      ]
     },
     "metadata": {},
     "output_type": "display_data"
    }
   ],
   "source": [
    "import pandas as pd\n",
    "import seaborn as sns\n",
    "\n",
    "df = pd.DataFrame({'time': times, 'n_zeros': trial_ids})\n",
    "sns.tsplot(time='n_zeros', value='time', data=df)\n",
    "plt.xlabel('N leading zeros in hash')\n",
    "plt.ylabel('Seconds taken to find suitable nonce')"
   ]
  }
 ],
 "metadata": {
  "kernelspec": {
   "display_name": "Python 3",
   "language": "python",
   "name": "python3"
  },
  "language_info": {
   "codemirror_mode": {
    "name": "ipython",
    "version": 3
   },
   "file_extension": ".py",
   "mimetype": "text/x-python",
   "name": "python",
   "nbconvert_exporter": "python",
   "pygments_lexer": "ipython3",
   "version": "3.6.0"
  }
 },
 "nbformat": 4,
 "nbformat_minor": 2
}
